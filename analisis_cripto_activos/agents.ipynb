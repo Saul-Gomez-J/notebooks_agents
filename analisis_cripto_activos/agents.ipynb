{
 "cells": [
  {
   "cell_type": "markdown",
   "metadata": {},
   "source": [
    "# Importamos dependencias y variables de entorno"
   ]
  },
  {
   "cell_type": "code",
   "execution_count": 7,
   "metadata": {},
   "outputs": [],
   "source": [
    "# Warning control\n",
    "import warnings\n",
    "warnings.filterwarnings('ignore')\n",
    "\n",
    "# Load environment variab\n",
    "from dotenv import load_dotenv\n",
    "load_dotenv()\n",
    "\n",
    "import os\n",
    "import yaml\n",
    "from crewai import Agent, Task, Crew\n",
    "\n",
    "OPENAI_API_KEY = os.environ['OPENAI_API_KEY']\n",
    "SERPER_API_KEY = os.environ['SERPER_API_KEY']\n",
    "#ANTHROPIC_API_KEY= os.environ['ANTHROPIC_API_KEY']\n",
    "GROQ_API_KEY = os.environ[\"GROQ_API_KEY\"]"
   ]
  },
  {
   "cell_type": "markdown",
   "metadata": {},
   "source": [
    "Cargamos los archivos yaml con las instrucciones de agentes y tareas"
   ]
  },
  {
   "cell_type": "code",
   "execution_count": 8,
   "metadata": {},
   "outputs": [],
   "source": [
    "# Define file paths for YAML configurations\n",
    "files = {\n",
    "    'agents': 'config/agents.yaml',\n",
    "    'tasks': 'config/tasks.yaml'\n",
    "}\n",
    "\n",
    "# Load configurations from YAML files\n",
    "configs = {}\n",
    "for config_type, file_path in files.items():\n",
    "    with open(file_path, 'r') as file:\n",
    "        configs[config_type] = yaml.safe_load(file)\n",
    "\n",
    "# Assign loaded configurations to specific variables\n",
    "agents_config = configs['agents']\n",
    "tasks_config = configs['tasks']"
   ]
  },
  {
   "cell_type": "markdown",
   "metadata": {},
   "source": [
    "# Herramientas:\n",
    "\n",
    "Crewai nos proporciona una serie de herramientas muy pontentes para nuestros sistemas de agentes:\n",
    "\n",
    "SerperDevTool: Utiliza la API de https://serper.dev/ para generar busquedas potenciadas con inteligencia artificial, devolviendo una serie de URLs\n",
    "\n",
    "ScrapeWebsiteTool: Una herramienta que nos permite scrapear la informacion de una web dada su URL\n",
    "\n",
    "WebsiteSearchTool: Super potente, nos permite scrapear una web dada su url, cargar una base de datos vectorial en memoria y hacer busquedas RAG a esa base de datos, lo que resultara en informacion mucho mas especifica sobre lo que estamos buscando."
   ]
  },
  {
   "cell_type": "code",
   "execution_count": 9,
   "metadata": {},
   "outputs": [],
   "source": [
    "from crewai_tools import SerperDevTool, ScrapeWebsiteTool, WebsiteSearchTool\n",
    "#from tools.info_activos import info_activo"
   ]
  },
  {
   "cell_type": "markdown",
   "metadata": {},
   "source": [
    "Establecemos el numero de URLs a 3, para que solo nos devuelva 3 URLs, ya que si no, devolveria 10, que es el valor por defecto. Hay que tener en cuenta que la API de seper tiene una version gratuita de 2500 peticiones, da de sobra para hacer muchas pruebas pero tampoco hay que pasarse."
   ]
  },
  {
   "cell_type": "code",
   "execution_count": 10,
   "metadata": {},
   "outputs": [],
   "source": [
    "SerperTool = SerperDevTool(\n",
    "    n_results=3,\n",
    ")"
   ]
  },
  {
   "cell_type": "markdown",
   "metadata": {},
   "source": [
    "# Creando Agentes, tareas y Crew\n",
    "\n",
    "Aqui vamos a crear los agentes y las tareas, en este caso, habra varias tareas que se podran hacer a la vez, asi que pondremos async_execution=True, lo cual disminuira el tiempo de respuesta. \n",
    "\n",
    "La ultima tarea, sera en la que generaremos el reporte basandonos en la informacion que hemos recogido anteriormente, para ello debemos escribir:\n",
    "\n",
    "context=[recopilacion_informacion_activo, analisis_tecnico_activo, analisis_fundamental_proyectos_empresas]\n",
    "\n",
    "Esto hara que el agente espere a tener la respuesta del resto de agentes para generar la suya.\n",
    "\n",
    "Si quereis podeis descomentar el agente para crear graficos para ver como funciona, pero debereis activar docker."
   ]
  },
  {
   "cell_type": "code",
   "execution_count": 11,
   "metadata": {},
   "outputs": [
    {
     "name": "stderr",
     "output_type": "stream",
     "text": [
      "2024-11-19 23:58:28,961 - 140186504904832 - __init__.py-__init__:538 - WARNING: Overriding of current TracerProvider is not allowed\n"
     ]
    }
   ],
   "source": [
    "## AGENTES\n",
    "agente_informacion_activo = Agent (\n",
    "    config=agents_config['agente_informacion_activo'],\n",
    "    tools=[SerperTool, WebsiteSearchTool()],\n",
    "    llm= 'gpt-4o-mini',\n",
    ")\n",
    "\n",
    "agente_analisis_tecnico = Agent (\n",
    "    config=agents_config['agente_analisis_tecnico'],\n",
    "    tools=[SerperTool, WebsiteSearchTool()],\n",
    "    llm= 'gpt-4o-mini',\n",
    ")\n",
    "\n",
    "agente_analisis_fundamental = Agent (\n",
    "    config=agents_config['agente_analisis_fundamental'],\n",
    "    tools=[SerperTool, WebsiteSearchTool()],\n",
    "    llm= 'gpt-4o-mini',\n",
    ")\n",
    "\n",
    "\n",
    "# agente_creacion_graficos = Agent (\n",
    "#     config=agents_config['agente_creacion_graficos'],\n",
    "#     allow_code_execution=True,\n",
    "#     tools=[info_activo],\n",
    "#     llm= 'gpt-4o-mini',\n",
    "# )\n",
    "\n",
    "agente_compilacion_reporte_final = Agent (\n",
    "    config=agents_config['agente_compilacion_reporte_final'],\n",
    "    llm= 'gpt-4o-mini',\n",
    ")\n",
    "\n",
    "## TAREAS\n",
    "\n",
    "recopilacion_informacion_activo = Task(\n",
    "    config=tasks_config['recopilacion_informacion_activo'],\n",
    "    agent=agente_informacion_activo,\n",
    "    async_execution=True,\n",
    ")\n",
    "\n",
    "analisis_tecnico_activo = Task(\n",
    "    config=tasks_config['analisis_tecnico_activo'],\n",
    "    agent=agente_analisis_tecnico,\n",
    "    async_execution=True,\n",
    ")\n",
    "\n",
    "analisis_fundamental_proyectos_empresas = Task(\n",
    "    config=tasks_config['analisis_fundamental_proyectos_empresas'],\n",
    "    agent=agente_analisis_fundamental,\n",
    "    async_execution=True,\n",
    ")\n",
    "\n",
    "\n",
    "# creacion_graficos_activo = Task(\n",
    "#     config=tasks_config['creacion_graficos_activo'],\n",
    "#     agent=agente_creacion_graficos,\n",
    "# )\n",
    "\n",
    "compilacion_reporte_final = Task(\n",
    "    config=tasks_config['compilacion_reporte_final'],\n",
    "    agent=agente_compilacion_reporte_final,\n",
    "    context=[recopilacion_informacion_activo, analisis_tecnico_activo, analisis_fundamental_proyectos_empresas]\n",
    "    # context=[recopilacion_informacion_activo, analisis_tecnico_activo, analisis_fundamental_proyectos_empresas, creacion_graficos_activo]\n",
    ")\n",
    "\n",
    "# Creating Crew\n",
    "crypto_report_crew = Crew(\n",
    "  agents=[\n",
    "    agente_informacion_activo,\n",
    "    agente_analisis_tecnico,\n",
    "    agente_analisis_fundamental,\n",
    "    #agente_creacion_graficos,\n",
    "    agente_compilacion_reporte_final,\n",
    "  ],\n",
    "  tasks=[\n",
    "    recopilacion_informacion_activo,\n",
    "    analisis_tecnico_activo,\n",
    "    analisis_fundamental_proyectos_empresas,\n",
    "    #creacion_graficos_activo,\n",
    "    compilacion_reporte_final,\n",
    "  ],\n",
    "  verbose=True\n",
    ")\n"
   ]
  },
  {
   "cell_type": "markdown",
   "metadata": {},
   "source": [
    "## Llamamos a la Crew, pasando como input el activo que queremos analizar\n",
    "\n",
    "Para referenciar el input, si nos fijamos en los archivos .yaml, estamos simplemente rodeando con corchetes la clave del diccionario que pasamos como input, en este caso {activo}"
   ]
  },
  {
   "cell_type": "code",
   "execution_count": 12,
   "metadata": {},
   "outputs": [],
   "source": [
    "result = crypto_report_crew.kickoff(inputs={\n",
    "    'activo': 'XRP'\n",
    "})"
   ]
  },
  {
   "cell_type": "code",
   "execution_count": 13,
   "metadata": {},
   "outputs": [
    {
     "data": {
      "text/markdown": [
       "# Informe completo sobre XRP (Ripple)\n",
       "\n",
       "## 1. Introducción\n",
       "Ripple (XRP) es un criptoactivo creado por Ripple Labs que se enfoca en facilitar las transferencias de dinero entre distintas monedas. Su propuesta de valor radica en ofrecer soluciones de pago rápidas, eficientes y de bajo costo, buscando eliminar las ineficiencias heredadas en las transferencias internacionales de dinero. A diferencia de muchas criptomonedas que utilizan minería, XRP funciona con un libro mayor distribuido que permite a los participantes confirmar las transacciones de manera ágil.\n",
       "\n",
       "## 2. Análisis del Activo\n",
       "- **Nombre Completo**: Ripple (XRP)\n",
       "- **Ticker**: XRP\n",
       "- **Capitalización de Mercado**: $61,892,650,644 USD\n",
       "- **Volumen de Trading Diario**: $5,850,125,500 USD\n",
       "- **Valoración de la Liquidez**: 8/10\n",
       "- **Rendimiento Histórico**: XRP alcanzó su máximo histórico de $3.84 en enero de 2018 y actualmente se encuentra alrededor de $1.09, lo que refleja una disminución del 71.74% respecto a su máximo histórico.\n",
       "\n",
       "## 3. Análisis Técnico\n",
       "El análisis técnico indica que XRP se encuentra en una tendencia alcista, apoyada por niveles clave y medias móviles. A pesar de esta tendencia, se recomienda a los traders que permanezcan alertas ante la posibilidad de una corrección a corto plazo.\n",
       "\n",
       "## 4. Análisis Fundamental\n",
       "### Resumen del Proyecto o Empresa\n",
       "XRP, impulsado por Ripple Labs, está diseñado para mejorar las transferencias de dinero entre diferentes divisas, con un enfoque en la rapidez y la reducción de costos.\n",
       "\n",
       "### Información Legal\n",
       "Ripple Labs enfrenta un litigio con la SEC de EE. UU., que argumenta que XRP debe ser considerado como un valor no registrado. Este proceso legal ha creado incertidumbre en el mercado y podría influir significativamente en la viabilidad y adopción de XRP.\n",
       "\n",
       "### Información Financiera \n",
       "Desde su lanzamiento, XRP ha mostrado gran volatilidad, alcanzando niveles de capitalización de mercado significativos. Sus perspectivas futuras están estrechamente relacionadas con el desenlace del litigio y las tendencias en el mercado de criptomonedas. Aunque ha sido adoptado por varias instituciones financieras, enfrenta retos de competencia por parte de otras soluciones emergentes.\n",
       "\n",
       "### Información Técnica\n",
       "XRP opera con un protocolo de consenso que permite tiempos de confirmación de transacciones de aproximadamente 3 a 5 segundos, superando el tiempo de confirmación de Bitcoin. Además, sus costos de transacción son bajos, lo que resulta atractivo para las instituciones financieras que buscan eficiencia. Su diseño también proporciona escalabilidad en comparación con otras tecnologías blockchain.\n",
       "\n",
       "### Alertas y Riesgos\n",
       "1. **Litigio con la SEC**: La posible resolución del litigio puede impactar drásticamente el futuro de XRP.\n",
       "2. **Volatilidad del Mercado**: Las fluctuaciones de precio pueden afectar la confianza de los inversores.\n",
       "3. **Competencia**: Nuevos actores en el mercado de pagos digitales podrían reducir la participación de XRP.\n",
       "4. **Regulación**: Cambios en la regulación en distintas jurisdicciones podrían influir en su uso.\n",
       "\n",
       "## 5. Conclusión\n",
       "XRP se posiciona como una solución innovadora para la transferencia de capital, destacándose por su rapidez y costo-efectividad. Sin embargo, enfrenta desafíos críticos, como litigios legales, alta volatilidad, y competencia creciente. La resolución del conflicto con la SEC es un factor fundamental que determinara su futuro en el mercado de criptomonedas. Es esencial que inversores y la comunidad en general permanezcan atentos a estos acontecimientos mientras consideran los beneficios potenciales de XRP.\n",
       "\n",
       "## 6. Fuentes\n",
       "1. [CryptoEQ](https://www.cryptoeq.io/corereports/xrp-abridged) - Accedido el [Fecha]\n",
       "2. [Investopedia](https://www.investopedia.com/news/what-role-xrp-ripples-products/) - Accedido el [Fecha]\n",
       "3. [Forbes](https://www.forbes.com/advisor/in/investing/cryptocurrency/xrp-price-prediction/) - Accedido el [Fecha]\n",
       "\n",
       "Este informe proporciona una visión integral de XRP, combinando análisis técnicos y fundamentales, junto con consideraciones sobre el contexto legal y financiero del criptoactivo."
      ],
      "text/plain": [
       "<IPython.core.display.Markdown object>"
      ]
     },
     "metadata": {},
     "output_type": "display_data"
    }
   ],
   "source": [
    "from IPython.display import display, Markdown\n",
    "display(Markdown(result.raw))"
   ]
  },
  {
   "cell_type": "markdown",
   "metadata": {},
   "source": [
    "## Guardamos el contenido en un archivo "
   ]
  },
  {
   "cell_type": "code",
   "execution_count": 14,
   "metadata": {},
   "outputs": [],
   "source": [
    "file_name = \"output.txt\"\n",
    "\n",
    "# Abre el archivo en modo de escritura y guarda el contenido\n",
    "with open(file_name, \"w\") as file:\n",
    "    file.write(result.raw)\n",
    "\n",
    "print(f\"El contenido se ha guardado correctamente en {file_name}\")"
   ]
  }
 ],
 "metadata": {
  "kernelspec": {
   "display_name": "venv",
   "language": "python",
   "name": "python3"
  },
  "language_info": {
   "codemirror_mode": {
    "name": "ipython",
    "version": 3
   },
   "file_extension": ".py",
   "mimetype": "text/x-python",
   "name": "python",
   "nbconvert_exporter": "python",
   "pygments_lexer": "ipython3",
   "version": "3.12.3"
  }
 },
 "nbformat": 4,
 "nbformat_minor": 2
}
